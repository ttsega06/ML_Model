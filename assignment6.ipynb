{
 "cells": [
  {
   "cell_type": "code",
   "execution_count": 1,
   "metadata": {},
   "outputs": [],
   "source": [
    "import pandas as pd\n",
    "advertising = pd.read_csv('advertising.csv')"
   ]
  },
  {
   "cell_type": "code",
   "execution_count": 2,
   "metadata": {},
   "outputs": [],
   "source": [
    "advertising;"
   ]
  },
  {
   "cell_type": "code",
   "execution_count": 3,
   "metadata": {},
   "outputs": [],
   "source": [
    "from sklearn.naive_bayes import GaussianNB\n",
    "model = GaussianNB()\n",
    "\n",
    "#from sklearn.neighbors import KNeighborsClassifier\n",
    "#model = KNeighborsClassifier()"
   ]
  },
  {
   "cell_type": "code",
   "execution_count": 4,
   "metadata": {},
   "outputs": [],
   "source": [
    "X = advertising[['Daily Time Spent on Site', 'Age','Area Income','Daily Internet Usage','Male']]\n",
    "X;"
   ]
  },
  {
   "cell_type": "code",
   "execution_count": 5,
   "metadata": {},
   "outputs": [],
   "source": [
    "Y = advertising[['Clicked on Ad']]\n",
    "Y;"
   ]
  },
  {
   "cell_type": "code",
   "execution_count": 6,
   "metadata": {},
   "outputs": [],
   "source": [
    "from sklearn.model_selection import train_test_split\n",
    "Xtrain, Xtest, Ytrain, Ytest = train_test_split(X, Y, random_state=1)"
   ]
  },
  {
   "cell_type": "code",
   "execution_count": 7,
   "metadata": {},
   "outputs": [
    {
     "name": "stderr",
     "output_type": "stream",
     "text": [
      "C:\\Users\\matty\\AppData\\Local\\Packages\\PythonSoftwareFoundation.Python.3.9_qbz5n2kfra8p0\\LocalCache\\local-packages\\Python39\\site-packages\\sklearn\\utils\\validation.py:1111: DataConversionWarning: A column-vector y was passed when a 1d array was expected. Please change the shape of y to (n_samples, ), for example using ravel().\n",
      "  y = column_or_1d(y, warn=True)\n"
     ]
    }
   ],
   "source": [
    "model.fit(Xtrain,Ytrain);"
   ]
  },
  {
   "cell_type": "code",
   "execution_count": 8,
   "metadata": {},
   "outputs": [],
   "source": [
    "prediction = model.predict(Xtest)"
   ]
  },
  {
   "cell_type": "code",
   "execution_count": 9,
   "metadata": {},
   "outputs": [
    {
     "data": {
      "text/plain": [
       "0.96"
      ]
     },
     "execution_count": 9,
     "metadata": {},
     "output_type": "execute_result"
    }
   ],
   "source": [
    "from sklearn.metrics import accuracy_score\n",
    "accuracy_score(Ytest, prediction)"
   ]
  },
  {
   "cell_type": "code",
   "execution_count": 10,
   "metadata": {},
   "outputs": [],
   "source": [
    "cityCountry = advertising[['City','Country']]\n",
    "cityCountryDict = cityCountry.to_dict('records')\n",
    "from sklearn.feature_extraction import DictVectorizer\n",
    "vec = DictVectorizer(sparse=False, dtype=int)\n",
    "fittedData = vec.fit_transform(cityCountryDict)\n",
    "cityCountryData = pd.DataFrame(fittedData, columns=vec.get_feature_names_out())\n",
    "featureEngData = pd.concat( (X, cityCountryData), axis=1)\n"
   ]
  },
  {
   "cell_type": "code",
   "execution_count": 12,
   "metadata": {},
   "outputs": [
    {
     "name": "stdout",
     "output_type": "stream",
     "text": [
      "     Daily Time Spent on Site  Age  Area Income  Daily Internet Usage  Male  \\\n",
      "0                       68.95   35     61833.90                256.09     0   \n",
      "1                       80.23   31     68441.85                193.77     1   \n",
      "2                       69.47   26     59785.94                236.50     0   \n",
      "3                       74.15   29     54806.18                245.89     1   \n",
      "4                       68.37   35     73889.99                225.58     0   \n",
      "..                        ...  ...          ...                   ...   ...   \n",
      "995                     72.97   30     71384.57                208.58     1   \n",
      "996                     51.30   45     67782.17                134.42     1   \n",
      "997                     51.63   51     42415.72                120.37     1   \n",
      "998                     55.55   19     41920.79                187.95     0   \n",
      "999                     45.01   26     29875.80                178.35     0   \n",
      "\n",
      "     City=Adamsbury  City=Adamside  City=Adamsstad  City=Alanview  \\\n",
      "0                 0              0               0              0   \n",
      "1                 0              0               0              0   \n",
      "2                 0              0               0              0   \n",
      "3                 0              0               0              0   \n",
      "4                 0              0               0              0   \n",
      "..              ...            ...             ...            ...   \n",
      "995               0              0               0              0   \n",
      "996               0              0               0              0   \n",
      "997               0              0               0              0   \n",
      "998               0              0               0              0   \n",
      "999               0              0               0              0   \n",
      "\n",
      "     City=Alexanderfurt  ...  Country=Zimbabwe  Timestamp  Timestamp  Friday  \\\n",
      "0                     0  ...                 0          3         27       0   \n",
      "1                     0  ...                 0          4          4       0   \n",
      "2                     0  ...                 0          3         13       0   \n",
      "3                     0  ...                 0          1         10       0   \n",
      "4                     0  ...                 0          6          3       1   \n",
      "..                  ...  ...               ...        ...        ...     ...   \n",
      "995                   0  ...                 0          2         11       0   \n",
      "996                   0  ...                 0          4         22       1   \n",
      "997                   0  ...                 0          2          1       0   \n",
      "998                   0  ...                 0          3         24       0   \n",
      "999                   0  ...                 0          6          3       1   \n",
      "\n",
      "     Monday  Saturday  Sunday  Thursday  Tuesday  Wednesday  \n",
      "0         0         0       1         0        0          0  \n",
      "1         1         0       0         0        0          0  \n",
      "2         0         0       1         0        0          0  \n",
      "3         0         0       1         0        0          0  \n",
      "4         0         0       0         0        0          0  \n",
      "..      ...       ...     ...       ...      ...        ...  \n",
      "995       0         0       0         1        0          0  \n",
      "996       0         0       0         0        0          0  \n",
      "997       1         0       0         0        0          0  \n",
      "998       0         0       0         1        0          0  \n",
      "999       0         0       0         0        0          0  \n",
      "\n",
      "[1000 rows x 1220 columns]\n"
     ]
    }
   ],
   "source": [
    "#date time feature engineering\n",
    "#https://towardsdatascience.com/feature-engineering-on-date-time-data-90f6e954e6b8\n",
    "\n",
    "dateTime = pd.to_datetime(advertising.Timestamp)\n",
    "months = dateTime.dt.month\n",
    "day_of_months = dateTime.dt.day\n",
    "hours = dateTime.dt.hour\n",
    "to_one_hot = dateTime.dt.day_name()\n",
    "days = pd.get_dummies(to_one_hot)\n",
    "\n",
    "featureEngData = pd.concat([featureEngData,months,day_of_months,days],axis=1)\n",
    "print(featureEngData)"
   ]
  },
  {
   "cell_type": "code",
   "execution_count": 13,
   "metadata": {},
   "outputs": [
    {
     "name": "stderr",
     "output_type": "stream",
     "text": [
      "C:\\Users\\matty\\AppData\\Local\\Packages\\PythonSoftwareFoundation.Python.3.9_qbz5n2kfra8p0\\LocalCache\\local-packages\\Python39\\site-packages\\sklearn\\utils\\validation.py:1111: DataConversionWarning: A column-vector y was passed when a 1d array was expected. Please change the shape of y to (n_samples, ), for example using ravel().\n",
      "  y = column_or_1d(y, warn=True)\n"
     ]
    },
    {
     "data": {
      "text/plain": [
       "0.96"
      ]
     },
     "execution_count": 13,
     "metadata": {},
     "output_type": "execute_result"
    }
   ],
   "source": [
    "Xtrain, Xtest, Ytrain, Ytest = train_test_split(featureEngData, Y, random_state=1)\n",
    "model.fit(Xtrain,Ytrain);\n",
    "prediction = model.predict(Xtest)\n",
    "accuracy_score(Ytest, prediction)"
   ]
  }
 ],
 "metadata": {
  "kernelspec": {
   "display_name": "Python 3 (ipykernel)",
   "language": "python",
   "name": "python3"
  },
  "language_info": {
   "codemirror_mode": {
    "name": "ipython",
    "version": 3
   },
   "file_extension": ".py",
   "mimetype": "text/x-python",
   "name": "python",
   "nbconvert_exporter": "python",
   "pygments_lexer": "ipython3",
   "version": "3.9.12"
  },
  "vscode": {
   "interpreter": {
    "hash": "e072746340e156c73f48aec0fb14a7ee6bfaffa01f580452221c9a1d05d1886f"
   }
  }
 },
 "nbformat": 4,
 "nbformat_minor": 2
}
